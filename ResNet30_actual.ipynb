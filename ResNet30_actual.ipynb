{
  "nbformat": 4,
  "nbformat_minor": 0,
  "metadata": {
    "colab": {
      "name": " ResNet30_actual.ipynb",
      "provenance": [],
      "include_colab_link": true
    },
    "kernelspec": {
      "name": "python3",
      "display_name": "Python 3"
    },
    "language_info": {
      "name": "python"
    },
    "accelerator": "GPU"
  },
  "cells": [
    {
      "cell_type": "markdown",
      "metadata": {
        "id": "view-in-github",
        "colab_type": "text"
      },
      "source": [
        "<a href=\"https://colab.research.google.com/github/rudraser/Sally/blob/main/ResNet30_actual.ipynb\" target=\"_parent\"><img src=\"https://colab.research.google.com/assets/colab-badge.svg\" alt=\"Open In Colab\"/></a>"
      ]
    },
    {
      "cell_type": "code",
      "metadata": {
        "colab": {
          "base_uri": "https://localhost:8080/"
        },
        "id": "6-ABe7Aq2VNQ",
        "outputId": "a11cae26-b3bc-4966-d72e-07315e6d06a8"
      },
      "source": [
        "import torch\n",
        "import torchvision # torch package for vision related things\n",
        "import torch.nn.functional as F  # Parameterless functions, like (some) activation functions\n",
        "import torchvision.datasets as datasets  # Standard datasets\n",
        "import torchvision.transforms as transforms  # Transformations we can perform on our dataset for augmentation\n",
        "from torch import optim  # For optimizers like SGD, Adam, etc.\n",
        "from torch import nn  # All neural network modules\n",
        "from torch.utils.data import DataLoader  # Gives easier dataset managment by creating mini batches etc.\n",
        "from tqdm import tqdm  # For nice progress bar!\n",
        "device = (torch.device('cuda') if torch.cuda.is_available()\n",
        "          else torch.device('cpu'))\n",
        "print(f\"Training on device {device}.\")"
      ],
      "execution_count": 11,
      "outputs": [
        {
          "output_type": "stream",
          "text": [
            "Training on device cuda.\n"
          ],
          "name": "stdout"
        }
      ]
    },
    {
      "cell_type": "code",
      "metadata": {
        "id": "89kv-NX62gfC"
      },
      "source": [
        "\n",
        "from matplotlib import pyplot as plt\n",
        "import numpy as np\n",
        "import collections\n",
        "\n",
        "\n",
        "import torch.nn as nn\n",
        "\n",
        "import torch.optim as optim"
      ],
      "execution_count": 12,
      "outputs": []
    },
    {
      "cell_type": "code",
      "metadata": {
        "colab": {
          "base_uri": "https://localhost:8080/"
        },
        "id": "j6huR3Ll2kdS",
        "outputId": "c003acc7-94f0-44b6-abd1-5dfa954fffaf"
      },
      "source": [
        "from torchvision import datasets, transforms\n",
        "data_path = '/data-unversioned/p1ch6/'\n",
        "cifar10 = datasets.CIFAR10(\n",
        "    data_path, train=True, download=True,\n",
        "    transform=transforms.Compose([\n",
        "        transforms.RandomCrop(size=[32,32], padding=4),                        \n",
        "        transforms.ToTensor(),\n",
        "        transforms.Normalize((0.4915, 0.4823, 0.4468),\n",
        "                             (0.2470, 0.2435, 0.2616))\n",
        "    ]))"
      ],
      "execution_count": 13,
      "outputs": [
        {
          "output_type": "stream",
          "text": [
            "Files already downloaded and verified\n"
          ],
          "name": "stdout"
        }
      ]
    },
    {
      "cell_type": "code",
      "metadata": {
        "colab": {
          "base_uri": "https://localhost:8080/"
        },
        "id": "n1inimGz2mUg",
        "outputId": "ee8be392-cc5e-4310-ea2b-84c0ebbdba63"
      },
      "source": [
        "cifar10_val = datasets.CIFAR10(\n",
        "    data_path, train=False, download=True,\n",
        "    transform=transforms.Compose([\n",
        "        transforms.ToTensor(),\n",
        "        transforms.Normalize((0.4915, 0.4823, 0.4468),\n",
        "                             (0.2470, 0.2435, 0.2616))\n",
        "    ]))"
      ],
      "execution_count": 14,
      "outputs": [
        {
          "output_type": "stream",
          "text": [
            "Files already downloaded and verified\n"
          ],
          "name": "stdout"
        }
      ]
    },
    {
      "cell_type": "code",
      "metadata": {
        "id": "3VBq_L3N2ovw"
      },
      "source": [
        "class resblock(nn.Module):\n",
        "    def __init__(self, in_channels, mid_channels,identity_downsample=None, stride=1):\n",
        "        super(resblock, self).__init__()\n",
        "        self.expansion = 4\n",
        "        self.conv1 = nn.Conv2d(in_channels, mid_channels, kernel_size=1, stride=1, padding=0, bias=False)\n",
        "        self.bn1 = nn.BatchNorm2d(mid_channels)\n",
        "        self.conv2 = nn.Conv2d(mid_channels,mid_channels,kernel_size=3,stride=stride,padding=1,bias=False)\n",
        "        self.bn2 = nn.BatchNorm2d(mid_channels)\n",
        "        self.conv3 = nn.Conv2d(mid_channels,mid_channels * self.expansion,kernel_size=1,stride=1,padding=0,bias=False)\n",
        "        self.bn3 = nn.BatchNorm2d(mid_channels * self.expansion)\n",
        "        self.relu = nn.ReLU()\n",
        "        self.identity_downsample = identity_downsample\n",
        "        self.stride = stride\n",
        "\n",
        "    def forward(self, x):\n",
        "        identity = x.clone()\n",
        "\n",
        "        x = self.conv1(x)\n",
        "        x = self.bn1(x)\n",
        "        x = self.relu(x)\n",
        "        x = self.conv2(x)\n",
        "        x = self.bn2(x)\n",
        "        x = self.relu(x)\n",
        "        x = self.conv3(x)\n",
        "        x = self.bn3(x)\n",
        "\n",
        "        if self.identity_downsample is not None:\n",
        "            identity = self.identity_downsample(identity)\n",
        "\n",
        "        x += identity\n",
        "        x = self.relu(x)\n",
        "        return x"
      ],
      "execution_count": 15,
      "outputs": []
    },
    {
      "cell_type": "code",
      "metadata": {
        "id": "wYM3qApj5GmS"
      },
      "source": [
        "class ResNet(nn.Module):\n",
        "    def __init__(self, resblock, layers, image_channels = 3, num_classes = 10):\n",
        "        super(ResNet, self).__init__()\n",
        "        self.in_channels = 64\n",
        "        self.conv1 = nn.Conv2d(image_channels, 64, kernel_size=7, stride=2, padding=3, bias=False)\n",
        "        self.bn1 = nn.BatchNorm2d(64)\n",
        "        self.relu = nn.ReLU()\n",
        "        self.maxpool = nn.MaxPool2d(kernel_size=3, stride=2, padding=1)\n",
        "\n",
        "        \n",
        "        self.layer1 = self._create_layer(resblock, layers[0], mid_channels=64, stride=1)\n",
        "        self.layer2 = self._create_layer(resblock, layers[1], mid_channels=128, stride=2)\n",
        "        self.layer3 = self._create_layer(resblock, layers[2], mid_channels=256, stride=2)\n",
        "        self.layer4 = self._create_layer(resblock, layers[3], mid_channels=512, stride=2)\n",
        "        self.avgpool = nn.AdaptiveAvgPool2d((1, 1))\n",
        "        self.fc1 = nn.Linear(512 * 4, 32)\n",
        "        self.fc2 = nn.Linear(32, 16)\n",
        "        self.fc3 = nn.Linear(16, 10)\n",
        "\n",
        "    def forward(self, x):\n",
        "        x = self.conv1(x)\n",
        "        x = self.bn1(x)\n",
        "        x = self.relu(x)\n",
        "        x = self.maxpool(x)\n",
        "        x = self.layer1(x)\n",
        "        x = self.layer2(x)\n",
        "        x = self.layer3(x)\n",
        "        x = self.layer4(x)\n",
        "\n",
        "        x = self.avgpool(x)\n",
        "        x = x.reshape(x.shape[0], -1)\n",
        "        x = self.fc1(x)\n",
        "        x = self.fc2(x)\n",
        "        x = self.fc3(x)\n",
        "\n",
        "        return x\n",
        "\n",
        "    def _create_layer(self, resblock, num_residual_blocks, mid_channels, stride):\n",
        "        identity_downsample = None\n",
        "        new_layers = []\n",
        "\n",
        "        # Either if we half the input space for ex, 56x56 -> 28x28 (stride=2), or channels changes\n",
        "        # we need to adapt the Identity (skip connection) so it will be able to be added\n",
        "        # to the layer that's ahead\n",
        "        if stride != 1 or self.in_channels != mid_channels * 4:\n",
        "            identity_downsample = nn.Sequential(\n",
        "                nn.Conv2d(\n",
        "                    self.in_channels,\n",
        "                    mid_channels * 4,\n",
        "                    kernel_size=1,\n",
        "                    stride=stride,\n",
        "                    bias=False\n",
        "                ),\n",
        "                nn.BatchNorm2d(mid_channels * 4),\n",
        "            )\n",
        "\n",
        "        new_layers.append(\n",
        "            resblock(self.in_channels, mid_channels, identity_downsample, stride)\n",
        "        )\n",
        "\n",
        "        # The expansion size is always 4 for ResNet 50,101,152\n",
        "        self.in_channels = mid_channels * 4\n",
        "\n",
        "        # For example for first resnet layer: 256 will be mapped to 64 as intermediate layer,\n",
        "        # then finally back to 256. Hence no identity downsample is needed, since stride = 1,\n",
        "        # and also same amount of channels.\n",
        "        for i in range(num_residual_blocks - 1):\n",
        "            new_layers.append(resblock(self.in_channels, mid_channels))\n",
        "\n",
        "        return nn.Sequential(*new_layers)\n",
        "\n"
      ],
      "execution_count": 16,
      "outputs": []
    },
    {
      "cell_type": "code",
      "metadata": {
        "id": "M21G-7ZsZqKn"
      },
      "source": [
        "import datetime\n",
        "\n",
        "def training_loop(n_epochs, optimizer, model, loss_fn, train_loader):\n",
        "    for epoch in range(1, n_epochs + 1):\n",
        "        loss_train = 0.0\n",
        "        for imgs, labels in train_loader:\n",
        "            imgs = imgs.to(device=device)  # <1>\n",
        "            labels = labels.to(device=device)\n",
        "            outputs = model(imgs)\n",
        "            loss = loss_fn(outputs, labels)\n",
        "\n",
        "            optimizer.zero_grad()\n",
        "            loss.backward()\n",
        "            optimizer.step()\n",
        "\n",
        "            loss_train += loss.item()\n",
        "\n",
        "        \n",
        "        print('{} Epoch {}, Training loss {}'.format(\n",
        "            datetime.datetime.now(), epoch,\n",
        "            loss_train / len(train_loader)))"
      ],
      "execution_count": 17,
      "outputs": []
    },
    {
      "cell_type": "code",
      "metadata": {
        "id": "Bvo7IO0qZrNL"
      },
      "source": [
        "train_loader = torch.utils.data.DataLoader(cifar10, batch_size=64,\n",
        "                                           shuffle=False)\n",
        "\n",
        "model =  ResNet(resblock,[2, 3, 7, 2]).to(device=device)# <1>\n",
        "optimizer = optim.SGD(model.parameters(), lr=1e-2)\n",
        "loss_fn = nn.CrossEntropyLoss()"
      ],
      "execution_count": 18,
      "outputs": []
    },
    {
      "cell_type": "code",
      "metadata": {
        "colab": {
          "base_uri": "https://localhost:8080/"
        },
        "id": "jCq8KO5FZyTq",
        "outputId": "c0aa69f0-6bdf-4895-b3d0-85bba5baf221"
      },
      "source": [
        "numel_list = [p.numel() for p in model.parameters()]\n",
        "sum(numel_list), numel_list"
      ],
      "execution_count": 19,
      "outputs": [
        {
          "output_type": "execute_result",
          "data": {
            "text/plain": [
              "(19878426,\n",
              " [9408,\n",
              "  64,\n",
              "  64,\n",
              "  4096,\n",
              "  64,\n",
              "  64,\n",
              "  36864,\n",
              "  64,\n",
              "  64,\n",
              "  16384,\n",
              "  256,\n",
              "  256,\n",
              "  16384,\n",
              "  256,\n",
              "  256,\n",
              "  16384,\n",
              "  64,\n",
              "  64,\n",
              "  36864,\n",
              "  64,\n",
              "  64,\n",
              "  16384,\n",
              "  256,\n",
              "  256,\n",
              "  32768,\n",
              "  128,\n",
              "  128,\n",
              "  147456,\n",
              "  128,\n",
              "  128,\n",
              "  65536,\n",
              "  512,\n",
              "  512,\n",
              "  131072,\n",
              "  512,\n",
              "  512,\n",
              "  65536,\n",
              "  128,\n",
              "  128,\n",
              "  147456,\n",
              "  128,\n",
              "  128,\n",
              "  65536,\n",
              "  512,\n",
              "  512,\n",
              "  65536,\n",
              "  128,\n",
              "  128,\n",
              "  147456,\n",
              "  128,\n",
              "  128,\n",
              "  65536,\n",
              "  512,\n",
              "  512,\n",
              "  131072,\n",
              "  256,\n",
              "  256,\n",
              "  589824,\n",
              "  256,\n",
              "  256,\n",
              "  262144,\n",
              "  1024,\n",
              "  1024,\n",
              "  524288,\n",
              "  1024,\n",
              "  1024,\n",
              "  262144,\n",
              "  256,\n",
              "  256,\n",
              "  589824,\n",
              "  256,\n",
              "  256,\n",
              "  262144,\n",
              "  1024,\n",
              "  1024,\n",
              "  262144,\n",
              "  256,\n",
              "  256,\n",
              "  589824,\n",
              "  256,\n",
              "  256,\n",
              "  262144,\n",
              "  1024,\n",
              "  1024,\n",
              "  262144,\n",
              "  256,\n",
              "  256,\n",
              "  589824,\n",
              "  256,\n",
              "  256,\n",
              "  262144,\n",
              "  1024,\n",
              "  1024,\n",
              "  262144,\n",
              "  256,\n",
              "  256,\n",
              "  589824,\n",
              "  256,\n",
              "  256,\n",
              "  262144,\n",
              "  1024,\n",
              "  1024,\n",
              "  262144,\n",
              "  256,\n",
              "  256,\n",
              "  589824,\n",
              "  256,\n",
              "  256,\n",
              "  262144,\n",
              "  1024,\n",
              "  1024,\n",
              "  262144,\n",
              "  256,\n",
              "  256,\n",
              "  589824,\n",
              "  256,\n",
              "  256,\n",
              "  262144,\n",
              "  1024,\n",
              "  1024,\n",
              "  524288,\n",
              "  512,\n",
              "  512,\n",
              "  2359296,\n",
              "  512,\n",
              "  512,\n",
              "  1048576,\n",
              "  2048,\n",
              "  2048,\n",
              "  2097152,\n",
              "  2048,\n",
              "  2048,\n",
              "  1048576,\n",
              "  512,\n",
              "  512,\n",
              "  2359296,\n",
              "  512,\n",
              "  512,\n",
              "  1048576,\n",
              "  2048,\n",
              "  2048,\n",
              "  65536,\n",
              "  32,\n",
              "  512,\n",
              "  16,\n",
              "  160,\n",
              "  10])"
            ]
          },
          "metadata": {
            "tags": []
          },
          "execution_count": 19
        }
      ]
    },
    {
      "cell_type": "code",
      "metadata": {
        "colab": {
          "base_uri": "https://localhost:8080/"
        },
        "id": "WwUpiGSHaNkM",
        "outputId": "2d485833-bbce-4c79-8668-356b82001a80"
      },
      "source": [
        "training_loop(  \n",
        "    n_epochs = 60,\n",
        "    optimizer = optimizer,\n",
        "    model = model,\n",
        "    loss_fn = loss_fn,\n",
        "    train_loader = train_loader,\n",
        ")"
      ],
      "execution_count": 20,
      "outputs": [
        {
          "output_type": "stream",
          "text": [
            "2021-07-30 13:51:39.552782 Epoch 1, Training loss 1.7731815105508966\n",
            "2021-07-30 13:53:25.344163 Epoch 2, Training loss 1.4496380109006486\n",
            "2021-07-30 13:55:11.080458 Epoch 3, Training loss 1.2969857783573668\n",
            "2021-07-30 13:56:56.915911 Epoch 4, Training loss 1.1791377896085724\n",
            "2021-07-30 13:58:42.285352 Epoch 5, Training loss 1.0727408272226144\n",
            "2021-07-30 14:00:27.798059 Epoch 6, Training loss 0.9928716939428578\n",
            "2021-07-30 14:02:13.239234 Epoch 7, Training loss 0.9206574376281875\n",
            "2021-07-30 14:03:58.767138 Epoch 8, Training loss 0.8639102314439271\n",
            "2021-07-30 14:05:44.281892 Epoch 9, Training loss 0.8111090659714111\n",
            "2021-07-30 14:07:29.878060 Epoch 10, Training loss 0.7653976744398132\n",
            "2021-07-30 14:09:15.485082 Epoch 11, Training loss 0.7227524049446711\n",
            "2021-07-30 14:11:01.099915 Epoch 12, Training loss 0.6850045968961838\n",
            "2021-07-30 14:12:46.694106 Epoch 13, Training loss 0.6446598887900867\n",
            "2021-07-30 14:14:32.218409 Epoch 14, Training loss 0.6141303335995321\n",
            "2021-07-30 14:16:17.878223 Epoch 15, Training loss 0.5867433102463212\n",
            "2021-07-30 14:18:03.479061 Epoch 16, Training loss 0.5597860505590049\n",
            "2021-07-30 14:19:49.071307 Epoch 17, Training loss 0.5331036836061331\n",
            "2021-07-30 14:21:34.674970 Epoch 18, Training loss 0.5111349204464641\n",
            "2021-07-30 14:23:20.530849 Epoch 19, Training loss 0.4801803312795546\n",
            "2021-07-30 14:25:07.087912 Epoch 20, Training loss 0.46038796036216\n",
            "2021-07-30 14:26:52.623948 Epoch 21, Training loss 0.4388478604119147\n",
            "2021-07-30 14:28:38.307262 Epoch 22, Training loss 0.4198193800114\n",
            "2021-07-30 14:30:23.897395 Epoch 23, Training loss 0.4028854478064858\n",
            "2021-07-30 14:32:09.498905 Epoch 24, Training loss 0.37896588373252804\n",
            "2021-07-30 14:33:55.014294 Epoch 25, Training loss 0.3583878908363526\n",
            "2021-07-30 14:35:40.372158 Epoch 26, Training loss 0.3449641827522489\n",
            "2021-07-30 14:37:25.905003 Epoch 27, Training loss 0.33444853107947525\n",
            "2021-07-30 14:39:11.569411 Epoch 28, Training loss 0.31295845400341943\n",
            "2021-07-30 14:40:57.142352 Epoch 29, Training loss 0.2965349500136607\n",
            "2021-07-30 14:42:42.613139 Epoch 30, Training loss 0.28245310591119327\n",
            "2021-07-30 14:44:28.067815 Epoch 31, Training loss 0.2729368535182474\n",
            "2021-07-30 14:46:13.723249 Epoch 32, Training loss 0.25898133007728535\n",
            "2021-07-30 14:47:59.028563 Epoch 33, Training loss 0.24495421382396118\n",
            "2021-07-30 14:49:44.328714 Epoch 34, Training loss 0.23727641753909534\n",
            "2021-07-30 14:51:29.717950 Epoch 35, Training loss 0.22255930160660573\n",
            "2021-07-30 14:53:14.884425 Epoch 36, Training loss 0.21254065413685405\n",
            "2021-07-30 14:55:00.292731 Epoch 37, Training loss 0.2076473609327584\n",
            "2021-07-30 14:56:45.672999 Epoch 38, Training loss 0.19337590985343128\n",
            "2021-07-30 14:58:31.037405 Epoch 39, Training loss 0.18746027636908644\n",
            "2021-07-30 15:00:16.529447 Epoch 40, Training loss 0.1809681056596129\n",
            "2021-07-30 15:02:01.875196 Epoch 41, Training loss 0.16893989702357964\n",
            "2021-07-30 15:03:46.701282 Epoch 42, Training loss 0.1664198096055547\n",
            "2021-07-30 15:05:31.749343 Epoch 43, Training loss 0.1583053890015463\n",
            "2021-07-30 15:07:16.658155 Epoch 44, Training loss 0.14945371551891726\n",
            "2021-07-30 15:09:01.926374 Epoch 45, Training loss 0.14375767469301323\n",
            "2021-07-30 15:10:46.808253 Epoch 46, Training loss 0.14135615465700474\n",
            "2021-07-30 15:12:31.720799 Epoch 47, Training loss 0.1291448842767445\n",
            "2021-07-30 15:14:16.991418 Epoch 48, Training loss 0.12428597907376145\n",
            "2021-07-30 15:16:01.557160 Epoch 49, Training loss 0.1207124793204143\n",
            "2021-07-30 15:17:46.435372 Epoch 50, Training loss 0.12217956513542767\n",
            "2021-07-30 15:19:31.274666 Epoch 51, Training loss 0.11531225994915303\n",
            "2021-07-30 15:21:16.123181 Epoch 52, Training loss 0.10806013025162393\n",
            "2021-07-30 15:23:01.182038 Epoch 53, Training loss 0.10863062436990154\n",
            "2021-07-30 15:24:45.962181 Epoch 54, Training loss 0.10164688829430248\n",
            "2021-07-30 15:26:30.811556 Epoch 55, Training loss 0.09834621807195894\n",
            "2021-07-30 15:28:15.986943 Epoch 56, Training loss 0.09080940853956791\n",
            "2021-07-30 15:30:01.168346 Epoch 57, Training loss 0.09337868475619598\n",
            "2021-07-30 15:31:46.438639 Epoch 58, Training loss 0.08787884698380403\n",
            "2021-07-30 15:33:31.819258 Epoch 59, Training loss 0.08719657356564975\n",
            "2021-07-30 15:35:17.082843 Epoch 60, Training loss 0.0857491009759114\n"
          ],
          "name": "stdout"
        }
      ]
    },
    {
      "cell_type": "code",
      "metadata": {
        "id": "P2heWoTXaW3d",
        "colab": {
          "base_uri": "https://localhost:8080/"
        },
        "outputId": "4beb706b-795d-473c-e886-109e35586172"
      },
      "source": [
        "train_loader = torch.utils.data.DataLoader(cifar10, batch_size=64,\n",
        "                                           shuffle=False)\n",
        "val_loader = torch.utils.data.DataLoader(cifar10_val, batch_size=64,\n",
        "                                         shuffle=False)\n",
        "\n",
        "def validate(model, train_loader, val_loader):\n",
        "    for name, loader in [(\"train\", train_loader), (\"val\", val_loader)]:\n",
        "        correct = 0\n",
        "        total = 0\n",
        "\n",
        "        with torch.no_grad():  # <1>\n",
        "            for imgs, labels in loader:\n",
        "                imgs = imgs.to(device=device)\n",
        "                labels = labels.to(device=device)\n",
        "                outputs = model(imgs)\n",
        "                _, predicted = torch.max(outputs, dim=1) # <2>\n",
        "                total += labels.shape[0]  # <3>\n",
        "                correct += int((predicted == labels).sum())  # <4>\n",
        "\n",
        "        print(\"Accuracy {}: {:.2f}\".format(name , correct / total))\n",
        "\n",
        "validate(model, train_loader, val_loader)"
      ],
      "execution_count": 21,
      "outputs": [
        {
          "output_type": "stream",
          "text": [
            "Accuracy train: 0.96\n",
            "Accuracy val: 0.76\n"
          ],
          "name": "stdout"
        }
      ]
    }
  ]
}