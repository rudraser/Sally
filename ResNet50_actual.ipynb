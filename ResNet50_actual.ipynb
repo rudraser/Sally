{
  "nbformat": 4,
  "nbformat_minor": 0,
  "metadata": {
    "colab": {
      "name": "ResNet50_actual.ipynb",
      "provenance": [],
      "authorship_tag": "ABX9TyMYRstOvWnRHeXZx0zplqgx",
      "include_colab_link": true
    },
    "kernelspec": {
      "name": "python3",
      "display_name": "Python 3"
    },
    "language_info": {
      "name": "python"
    },
    "accelerator": "GPU"
  },
  "cells": [
    {
      "cell_type": "markdown",
      "metadata": {
        "id": "view-in-github",
        "colab_type": "text"
      },
      "source": [
        "<a href=\"https://colab.research.google.com/github/rudraser/Sally/blob/main/ResNet50_actual.ipynb\" target=\"_parent\"><img src=\"https://colab.research.google.com/assets/colab-badge.svg\" alt=\"Open In Colab\"/></a>"
      ]
    },
    {
      "cell_type": "code",
      "metadata": {
        "colab": {
          "base_uri": "https://localhost:8080/"
        },
        "id": "6-ABe7Aq2VNQ",
        "outputId": "e1a9804c-487e-437b-e203-24c21d105226"
      },
      "source": [
        "import torch\n",
        "import torchvision # torch package for vision related things\n",
        "import torch.nn.functional as F  # Parameterless functions, like (some) activation functions\n",
        "import torchvision.datasets as datasets  # Standard datasets\n",
        "import torchvision.transforms as transforms  # Transformations we can perform on our dataset for augmentation\n",
        "from torch import optim  # For optimizers like SGD, Adam, etc.\n",
        "from torch import nn  # All neural network modules\n",
        "from torch.utils.data import DataLoader  # Gives easier dataset managment by creating mini batches etc.\n",
        "from tqdm import tqdm  # For nice progress bar!\n",
        "device = (torch.device('cuda') if torch.cuda.is_available()\n",
        "          else torch.device('cpu'))\n",
        "print(f\"Training on device {device}.\")"
      ],
      "execution_count": 99,
      "outputs": [
        {
          "output_type": "stream",
          "text": [
            "Training on device cuda.\n"
          ],
          "name": "stdout"
        }
      ]
    },
    {
      "cell_type": "code",
      "metadata": {
        "id": "89kv-NX62gfC"
      },
      "source": [
        "\n",
        "from matplotlib import pyplot as plt\n",
        "import numpy as np\n",
        "import collections\n",
        "\n",
        "\n",
        "import torch.nn as nn\n",
        "\n",
        "import torch.optim as optim"
      ],
      "execution_count": 100,
      "outputs": []
    },
    {
      "cell_type": "code",
      "metadata": {
        "colab": {
          "base_uri": "https://localhost:8080/"
        },
        "id": "j6huR3Ll2kdS",
        "outputId": "939d3b19-0582-4f3a-c943-a3ce811b2d57"
      },
      "source": [
        "from torchvision import datasets, transforms\n",
        "data_path = '/data-unversioned/p1ch6/'\n",
        "cifar10 = datasets.CIFAR10(\n",
        "    data_path, train=True, download=True,\n",
        "    transform=transforms.Compose([\n",
        "        transforms.RandomCrop(size=[32,32], padding=4),                        \n",
        "        transforms.ToTensor(),\n",
        "        transforms.Normalize((0.4915, 0.4823, 0.4468),\n",
        "                             (0.2470, 0.2435, 0.2616))\n",
        "    ]))"
      ],
      "execution_count": 101,
      "outputs": [
        {
          "output_type": "stream",
          "text": [
            "Files already downloaded and verified\n"
          ],
          "name": "stdout"
        }
      ]
    },
    {
      "cell_type": "code",
      "metadata": {
        "colab": {
          "base_uri": "https://localhost:8080/"
        },
        "id": "n1inimGz2mUg",
        "outputId": "2cf40c56-3352-4f6b-ab3c-21251f46ec05"
      },
      "source": [
        "cifar10_val = datasets.CIFAR10(\n",
        "    data_path, train=False, download=True,\n",
        "    transform=transforms.Compose([\n",
        "        transforms.ToTensor(),\n",
        "        transforms.Normalize((0.4915, 0.4823, 0.4468),\n",
        "                             (0.2470, 0.2435, 0.2616))\n",
        "    ]))"
      ],
      "execution_count": 102,
      "outputs": [
        {
          "output_type": "stream",
          "text": [
            "Files already downloaded and verified\n"
          ],
          "name": "stdout"
        }
      ]
    },
    {
      "cell_type": "code",
      "metadata": {
        "id": "3VBq_L3N2ovw"
      },
      "source": [
        "class resblock(nn.Module):\n",
        "    def __init__(self, in_channels, mid_channels,identity_downsample=None, stride=1):\n",
        "        super(resblock, self).__init__()\n",
        "        self.expansion = 4\n",
        "        self.conv1 = nn.Conv2d(in_channels, mid_channels, kernel_size=1, stride=1, padding=0, bias=False)\n",
        "        self.bn1 = nn.BatchNorm2d(mid_channels)\n",
        "        self.conv2 = nn.Conv2d(mid_channels,mid_channels,kernel_size=3,stride=stride,padding=1,bias=False)\n",
        "        self.bn2 = nn.BatchNorm2d(mid_channels)\n",
        "        self.conv3 = nn.Conv2d(mid_channels,mid_channels * self.expansion,kernel_size=1,stride=1,padding=0,bias=False)\n",
        "        self.bn3 = nn.BatchNorm2d(mid_channels * self.expansion)\n",
        "        self.relu = nn.ReLU()\n",
        "        self.identity_downsample = identity_downsample\n",
        "        self.stride = stride\n",
        "\n",
        "    def forward(self, x):\n",
        "        identity = x.clone()\n",
        "\n",
        "        x = self.conv1(x)\n",
        "        x = self.bn1(x)\n",
        "        x = self.relu(x)\n",
        "        x = self.conv2(x)\n",
        "        x = self.bn2(x)\n",
        "        x = self.relu(x)\n",
        "        x = self.conv3(x)\n",
        "        x = self.bn3(x)\n",
        "\n",
        "        if self.identity_downsample is not None:\n",
        "            identity = self.identity_downsample(identity)\n",
        "\n",
        "        x += identity\n",
        "        x = self.relu(x)\n",
        "        return x"
      ],
      "execution_count": 103,
      "outputs": []
    },
    {
      "cell_type": "code",
      "metadata": {
        "id": "wYM3qApj5GmS"
      },
      "source": [
        "class ResNet(nn.Module):\n",
        "    def __init__(self, resblock, layers, image_channels = 3, num_classes = 10):\n",
        "        super(ResNet, self).__init__()\n",
        "        self.in_channels = 64\n",
        "        self.conv1 = nn.Conv2d(image_channels, 64, kernel_size=7, stride=2, padding=3, bias=False)\n",
        "        self.bn1 = nn.BatchNorm2d(64)\n",
        "        self.relu = nn.ReLU()\n",
        "        self.maxpool = nn.MaxPool2d(kernel_size=3, stride=2, padding=1)\n",
        "\n",
        "        \n",
        "        self.layer1 = self._create_layer(resblock, layers[0], mid_channels=64, stride=1)\n",
        "        self.layer2 = self._create_layer(resblock, layers[1], mid_channels=128, stride=2)\n",
        "        self.layer3 = self._create_layer(resblock, layers[2], mid_channels=256, stride=2)\n",
        "        self.layer4 = self._create_layer(resblock, layers[3], mid_channels=512, stride=2)\n",
        "        self.avgpool = nn.AdaptiveAvgPool2d((1, 1))\n",
        "        self.fc1 = nn.Linear(512 * 4, 32)\n",
        "        self.fc2 = nn.Linear(32, 16)\n",
        "        self.fc3 = nn.Linear(16, 10)\n",
        "\n",
        "    def forward(self, x):\n",
        "        x = self.conv1(x)\n",
        "        x = self.bn1(x)\n",
        "        x = self.relu(x)\n",
        "        x = self.maxpool(x)\n",
        "        x = self.layer1(x)\n",
        "        x = self.layer2(x)\n",
        "        x = self.layer3(x)\n",
        "        x = self.layer4(x)\n",
        "\n",
        "        x = self.avgpool(x)\n",
        "        x = x.reshape(x.shape[0], -1)\n",
        "        x = self.fc1(x)\n",
        "        x = self.fc2(x)\n",
        "        x = self.fc3(x)\n",
        "\n",
        "        return x\n",
        "\n",
        "    def _create_layer(self, resblock, num_residual_blocks, mid_channels, stride):\n",
        "        identity_downsample = None\n",
        "        new_layers = []\n",
        "\n",
        "        # Either if we half the input space for ex, 56x56 -> 28x28 (stride=2), or channels changes\n",
        "        # we need to adapt the Identity (skip connection) so it will be able to be added\n",
        "        # to the layer that's ahead\n",
        "        if stride != 1 or self.in_channels != mid_channels * 4:\n",
        "            identity_downsample = nn.Sequential(\n",
        "                nn.Conv2d(\n",
        "                    self.in_channels,\n",
        "                    mid_channels * 4,\n",
        "                    kernel_size=1,\n",
        "                    stride=stride,\n",
        "                    bias=False\n",
        "                ),\n",
        "                nn.BatchNorm2d(mid_channels * 4),\n",
        "            )\n",
        "\n",
        "        new_layers.append(\n",
        "            resblock(self.in_channels, mid_channels, identity_downsample, stride)\n",
        "        )\n",
        "\n",
        "        # The expansion size is always 4 for ResNet 50,101,152\n",
        "        self.in_channels = mid_channels * 4\n",
        "\n",
        "        # For example for first resnet layer: 256 will be mapped to 64 as intermediate layer,\n",
        "        # then finally back to 256. Hence no identity downsample is needed, since stride = 1,\n",
        "        # and also same amount of channels.\n",
        "        for i in range(num_residual_blocks - 1):\n",
        "            new_layers.append(resblock(self.in_channels, mid_channels))\n",
        "\n",
        "        return nn.Sequential(*new_layers)\n",
        "\n"
      ],
      "execution_count": 104,
      "outputs": []
    },
    {
      "cell_type": "code",
      "metadata": {
        "id": "M21G-7ZsZqKn"
      },
      "source": [
        "import datetime\n",
        "\n",
        "def training_loop(n_epochs, optimizer, model, loss_fn, train_loader):\n",
        "    for epoch in range(1, n_epochs + 1):\n",
        "        loss_train = 0.0\n",
        "        for imgs, labels in train_loader:\n",
        "            imgs = imgs.to(device=device)  # <1>\n",
        "            labels = labels.to(device=device)\n",
        "            outputs = model(imgs)\n",
        "            loss = loss_fn(outputs, labels)\n",
        "\n",
        "            optimizer.zero_grad()\n",
        "            loss.backward()\n",
        "            optimizer.step()\n",
        "\n",
        "            loss_train += loss.item()\n",
        "\n",
        "        \n",
        "        print('{} Epoch {}, Training loss {}'.format(\n",
        "            datetime.datetime.now(), epoch,\n",
        "            loss_train / len(train_loader)))"
      ],
      "execution_count": 105,
      "outputs": []
    },
    {
      "cell_type": "code",
      "metadata": {
        "id": "Bvo7IO0qZrNL"
      },
      "source": [
        "train_loader = torch.utils.data.DataLoader(cifar10, batch_size=64,\n",
        "                                           shuffle=False)\n",
        "\n",
        "model =  ResNet(resblock,[2, 4, 8, 2]).to(device=device)# <1>\n",
        "optimizer = optim.SGD(model.parameters(), lr=1e-2)\n",
        "loss_fn = nn.CrossEntropyLoss()"
      ],
      "execution_count": 106,
      "outputs": []
    },
    {
      "cell_type": "code",
      "metadata": {
        "colab": {
          "base_uri": "https://localhost:8080/"
        },
        "id": "jCq8KO5FZyTq",
        "outputId": "7a5c1bf3-8077-450f-ca67-e42c16e95d7b"
      },
      "source": [
        "numel_list = [p.numel() for p in model.parameters()]\n",
        "sum(numel_list), numel_list"
      ],
      "execution_count": 107,
      "outputs": [
        {
          "output_type": "execute_result",
          "data": {
            "text/plain": [
              "(21275674,\n",
              " [9408,\n",
              "  64,\n",
              "  64,\n",
              "  4096,\n",
              "  64,\n",
              "  64,\n",
              "  36864,\n",
              "  64,\n",
              "  64,\n",
              "  16384,\n",
              "  256,\n",
              "  256,\n",
              "  16384,\n",
              "  256,\n",
              "  256,\n",
              "  16384,\n",
              "  64,\n",
              "  64,\n",
              "  36864,\n",
              "  64,\n",
              "  64,\n",
              "  16384,\n",
              "  256,\n",
              "  256,\n",
              "  32768,\n",
              "  128,\n",
              "  128,\n",
              "  147456,\n",
              "  128,\n",
              "  128,\n",
              "  65536,\n",
              "  512,\n",
              "  512,\n",
              "  131072,\n",
              "  512,\n",
              "  512,\n",
              "  65536,\n",
              "  128,\n",
              "  128,\n",
              "  147456,\n",
              "  128,\n",
              "  128,\n",
              "  65536,\n",
              "  512,\n",
              "  512,\n",
              "  65536,\n",
              "  128,\n",
              "  128,\n",
              "  147456,\n",
              "  128,\n",
              "  128,\n",
              "  65536,\n",
              "  512,\n",
              "  512,\n",
              "  65536,\n",
              "  128,\n",
              "  128,\n",
              "  147456,\n",
              "  128,\n",
              "  128,\n",
              "  65536,\n",
              "  512,\n",
              "  512,\n",
              "  131072,\n",
              "  256,\n",
              "  256,\n",
              "  589824,\n",
              "  256,\n",
              "  256,\n",
              "  262144,\n",
              "  1024,\n",
              "  1024,\n",
              "  524288,\n",
              "  1024,\n",
              "  1024,\n",
              "  262144,\n",
              "  256,\n",
              "  256,\n",
              "  589824,\n",
              "  256,\n",
              "  256,\n",
              "  262144,\n",
              "  1024,\n",
              "  1024,\n",
              "  262144,\n",
              "  256,\n",
              "  256,\n",
              "  589824,\n",
              "  256,\n",
              "  256,\n",
              "  262144,\n",
              "  1024,\n",
              "  1024,\n",
              "  262144,\n",
              "  256,\n",
              "  256,\n",
              "  589824,\n",
              "  256,\n",
              "  256,\n",
              "  262144,\n",
              "  1024,\n",
              "  1024,\n",
              "  262144,\n",
              "  256,\n",
              "  256,\n",
              "  589824,\n",
              "  256,\n",
              "  256,\n",
              "  262144,\n",
              "  1024,\n",
              "  1024,\n",
              "  262144,\n",
              "  256,\n",
              "  256,\n",
              "  589824,\n",
              "  256,\n",
              "  256,\n",
              "  262144,\n",
              "  1024,\n",
              "  1024,\n",
              "  262144,\n",
              "  256,\n",
              "  256,\n",
              "  589824,\n",
              "  256,\n",
              "  256,\n",
              "  262144,\n",
              "  1024,\n",
              "  1024,\n",
              "  262144,\n",
              "  256,\n",
              "  256,\n",
              "  589824,\n",
              "  256,\n",
              "  256,\n",
              "  262144,\n",
              "  1024,\n",
              "  1024,\n",
              "  524288,\n",
              "  512,\n",
              "  512,\n",
              "  2359296,\n",
              "  512,\n",
              "  512,\n",
              "  1048576,\n",
              "  2048,\n",
              "  2048,\n",
              "  2097152,\n",
              "  2048,\n",
              "  2048,\n",
              "  1048576,\n",
              "  512,\n",
              "  512,\n",
              "  2359296,\n",
              "  512,\n",
              "  512,\n",
              "  1048576,\n",
              "  2048,\n",
              "  2048,\n",
              "  65536,\n",
              "  32,\n",
              "  512,\n",
              "  16,\n",
              "  160,\n",
              "  10])"
            ]
          },
          "metadata": {
            "tags": []
          },
          "execution_count": 107
        }
      ]
    },
    {
      "cell_type": "code",
      "metadata": {
        "colab": {
          "base_uri": "https://localhost:8080/"
        },
        "id": "WwUpiGSHaNkM",
        "outputId": "54ebebeb-64a7-4a88-c7f9-e20f0b2dec4b"
      },
      "source": [
        "training_loop(  \n",
        "    n_epochs = 60,\n",
        "    optimizer = optimizer,\n",
        "    model = model,\n",
        "    loss_fn = loss_fn,\n",
        "    train_loader = train_loader,\n",
        ")"
      ],
      "execution_count": 108,
      "outputs": [
        {
          "output_type": "stream",
          "text": [
            "2021-07-30 12:22:15.868913 Epoch 1, Training loss 1.7989903321046659\n",
            "2021-07-30 12:23:07.192367 Epoch 2, Training loss 1.4685389928500672\n",
            "2021-07-30 12:23:58.720959 Epoch 3, Training loss 1.3224377957603815\n",
            "2021-07-30 12:24:51.684956 Epoch 4, Training loss 1.2038681351620217\n",
            "2021-07-30 12:25:44.297845 Epoch 5, Training loss 1.1044892525429006\n",
            "2021-07-30 12:26:36.628213 Epoch 6, Training loss 1.0188387528709744\n",
            "2021-07-30 12:27:29.312617 Epoch 7, Training loss 0.9447978804330996\n",
            "2021-07-30 12:28:22.299371 Epoch 8, Training loss 0.8853139686005195\n",
            "2021-07-30 12:29:15.003635 Epoch 9, Training loss 0.8312422598871734\n",
            "2021-07-30 12:30:07.836993 Epoch 10, Training loss 0.7825287691391337\n",
            "2021-07-30 12:31:00.413205 Epoch 11, Training loss 0.7447202839052586\n",
            "2021-07-30 12:31:53.211367 Epoch 12, Training loss 0.702505543180134\n",
            "2021-07-30 12:32:45.656997 Epoch 13, Training loss 0.667123271109503\n",
            "2021-07-30 12:33:38.214749 Epoch 14, Training loss 0.6366253638130319\n",
            "2021-07-30 12:34:30.955099 Epoch 15, Training loss 0.6060031230568581\n",
            "2021-07-30 12:35:23.915911 Epoch 16, Training loss 0.5739144986242894\n",
            "2021-07-30 12:36:16.633982 Epoch 17, Training loss 0.5509198249301033\n",
            "2021-07-30 12:37:09.376957 Epoch 18, Training loss 0.5222110725424783\n",
            "2021-07-30 12:38:02.109041 Epoch 19, Training loss 0.502790583540564\n",
            "2021-07-30 12:38:54.730184 Epoch 20, Training loss 0.4786579677897036\n",
            "2021-07-30 12:39:47.204478 Epoch 21, Training loss 0.4562148245627923\n",
            "2021-07-30 12:40:40.374662 Epoch 22, Training loss 0.4337279784023914\n",
            "2021-07-30 12:41:32.737430 Epoch 23, Training loss 0.41573316855427556\n",
            "2021-07-30 12:42:25.250828 Epoch 24, Training loss 0.3928387575137341\n",
            "2021-07-30 12:43:17.949210 Epoch 25, Training loss 0.37542733813986146\n",
            "2021-07-30 12:44:10.601809 Epoch 26, Training loss 0.3614390961959234\n",
            "2021-07-30 12:45:03.148104 Epoch 27, Training loss 0.34348637725005066\n",
            "2021-07-30 12:45:55.941264 Epoch 28, Training loss 0.32636914922453253\n",
            "2021-07-30 12:46:48.612859 Epoch 29, Training loss 0.3137428766054571\n",
            "2021-07-30 12:47:41.008141 Epoch 30, Training loss 0.2980947553863763\n",
            "2021-07-30 12:48:33.359319 Epoch 31, Training loss 0.28070981871060396\n",
            "2021-07-30 12:49:25.843263 Epoch 32, Training loss 0.2675549999984634\n",
            "2021-07-30 12:50:18.333114 Epoch 33, Training loss 0.2619653146361451\n",
            "2021-07-30 12:51:10.752739 Epoch 34, Training loss 0.24562151308940805\n",
            "2021-07-30 12:52:03.354387 Epoch 35, Training loss 0.23932750254650326\n",
            "2021-07-30 12:52:55.986117 Epoch 36, Training loss 0.22623280717579225\n",
            "2021-07-30 12:53:48.319299 Epoch 37, Training loss 0.21289026426613483\n",
            "2021-07-30 12:54:40.585613 Epoch 38, Training loss 0.207754388811243\n",
            "2021-07-30 12:55:33.020178 Epoch 39, Training loss 0.195964225385662\n",
            "2021-07-30 12:56:25.826221 Epoch 40, Training loss 0.1862130673468837\n",
            "2021-07-30 12:57:18.205147 Epoch 41, Training loss 0.18223183567676207\n",
            "2021-07-30 12:58:10.700480 Epoch 42, Training loss 0.17212283789225474\n",
            "2021-07-30 12:59:03.224462 Epoch 43, Training loss 0.16291653008326468\n",
            "2021-07-30 12:59:55.701098 Epoch 44, Training loss 0.16173949372261534\n",
            "2021-07-30 13:00:47.908192 Epoch 45, Training loss 0.15396553784361122\n",
            "2021-07-30 13:01:40.338122 Epoch 46, Training loss 0.14732662354931808\n",
            "2021-07-30 13:02:33.155910 Epoch 47, Training loss 0.1425319894519456\n",
            "2021-07-30 13:03:25.310797 Epoch 48, Training loss 0.1347024772605618\n",
            "2021-07-30 13:04:17.714494 Epoch 49, Training loss 0.13048775375480084\n",
            "2021-07-30 13:05:10.228850 Epoch 50, Training loss 0.1280938522185168\n",
            "2021-07-30 13:06:03.716802 Epoch 51, Training loss 0.12241067276681628\n",
            "2021-07-30 13:06:56.922073 Epoch 52, Training loss 0.1172077014239605\n",
            "2021-07-30 13:07:49.999652 Epoch 53, Training loss 0.11385647732469127\n",
            "2021-07-30 13:08:42.865764 Epoch 54, Training loss 0.10872792124943546\n",
            "2021-07-30 13:09:35.809561 Epoch 55, Training loss 0.10380983590910597\n",
            "2021-07-30 13:10:28.686446 Epoch 56, Training loss 0.10588669770336508\n",
            "2021-07-30 13:11:21.504035 Epoch 57, Training loss 0.0943765343986261\n",
            "2021-07-30 13:12:14.365564 Epoch 58, Training loss 0.09722334049543312\n",
            "2021-07-30 13:13:07.017858 Epoch 59, Training loss 0.0878137625145602\n",
            "2021-07-30 13:14:00.152582 Epoch 60, Training loss 0.08724998206119328\n"
          ],
          "name": "stdout"
        }
      ]
    },
    {
      "cell_type": "code",
      "metadata": {
        "colab": {
          "base_uri": "https://localhost:8080/"
        },
        "id": "P2heWoTXaW3d",
        "outputId": "4e72239a-8cae-455b-beaa-d6c08036aa39"
      },
      "source": [
        "train_loader = torch.utils.data.DataLoader(cifar10, batch_size=64,\n",
        "                                           shuffle=False)\n",
        "val_loader = torch.utils.data.DataLoader(cifar10_val, batch_size=64,\n",
        "                                         shuffle=False)\n",
        "\n",
        "def validate(model, train_loader, val_loader):\n",
        "    for name, loader in [(\"train\", train_loader), (\"val\", val_loader)]:\n",
        "        correct = 0\n",
        "        total = 0\n",
        "\n",
        "        with torch.no_grad():  # <1>\n",
        "            for imgs, labels in loader:\n",
        "                imgs = imgs.to(device=device)\n",
        "                labels = labels.to(device=device)\n",
        "                outputs = model(imgs)\n",
        "                _, predicted = torch.max(outputs, dim=1) # <2>\n",
        "                total += labels.shape[0]  # <3>\n",
        "                correct += int((predicted == labels).sum())  # <4>\n",
        "\n",
        "        print(\"Accuracy {}: {:.2f}\".format(name , correct / total))\n",
        "\n",
        "validate(model, train_loader, val_loader)"
      ],
      "execution_count": 109,
      "outputs": [
        {
          "output_type": "stream",
          "text": [
            "Accuracy train: 0.97\n",
            "Accuracy val: 0.77\n"
          ],
          "name": "stdout"
        }
      ]
    }
  ]
}